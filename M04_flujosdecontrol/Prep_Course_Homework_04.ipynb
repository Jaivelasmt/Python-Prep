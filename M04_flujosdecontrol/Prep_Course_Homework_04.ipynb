{
 "cells": [
  {
   "attachments": {},
   "cell_type": "markdown",
   "metadata": {},
   "source": [
    "## Flujos de Control"
   ]
  },
  {
   "attachments": {},
   "cell_type": "markdown",
   "metadata": {},
   "source": [
    "1) Crear una variable que contenga un elemento del conjunto de números enteros y luego imprimir por pantalla si es mayor o menor a cero"
   ]
  },
  {
   "cell_type": "code",
   "execution_count": 11,
   "metadata": {},
   "outputs": [
    {
     "name": "stdout",
     "output_type": "stream",
     "text": [
      "igual a cero\n"
     ]
    }
   ],
   "source": [
    "num1=0\n",
    "if num1>0:\n",
    "    print(\"mayor a cero\");\n",
    "elif num1<0:\n",
    "    print(\"menor que cero\");\n",
    "else:\n",
    "    print(\"igual a cero\")"
   ]
  },
  {
   "attachments": {},
   "cell_type": "markdown",
   "metadata": {},
   "source": [
    "2) Crear dos variables y un condicional que informe si son del mismo tipo de dato"
   ]
  },
  {
   "cell_type": "code",
   "execution_count": 18,
   "metadata": {},
   "outputs": [
    {
     "name": "stdout",
     "output_type": "stream",
     "text": [
      "son del mismo tipo de dato\n"
     ]
    }
   ],
   "source": [
    "var1 = 5\n",
    "var2 = 6\n",
    "if (type(var1) == type(var2)):\n",
    "    print(\"son del mismo tipo de dato\")\n",
    "else:\n",
    "    print(\"son diferente tipo de dato\")"
   ]
  },
  {
   "attachments": {},
   "cell_type": "markdown",
   "metadata": {},
   "source": [
    "3) Para los valores enteros del 1 al 20, imprimir por pantalla si es par o impar"
   ]
  },
  {
   "cell_type": "code",
   "execution_count": 7,
   "metadata": {},
   "outputs": [
    {
     "name": "stdout",
     "output_type": "stream",
     "text": [
      "1 impar\n",
      "2 par\n",
      "3 impar\n",
      "4 par\n",
      "5 impar\n",
      "6 par\n",
      "7 impar\n",
      "8 par\n",
      "9 impar\n",
      "10 par\n",
      "11 impar\n",
      "12 par\n",
      "13 impar\n",
      "14 par\n",
      "15 impar\n",
      "16 par\n",
      "17 impar\n",
      "18 par\n",
      "19 impar\n",
      "20 par\n"
     ]
    }
   ],
   "source": [
    "j=1\n",
    "while j < 21:\n",
    "    if j==1:\n",
    "        print(j , \"impar\")\n",
    "    elif (j%2 == 0): \n",
    "        print(j , \"par\")\n",
    "    else: \n",
    "        print(j , \"impar\")\n",
    "    j+=1\n"
   ]
  },
  {
   "attachments": {},
   "cell_type": "markdown",
   "metadata": {},
   "source": [
    "4) En un ciclo for mostrar para los valores entre 0 y 5 el resultado de elevarlo a la potencia igual a 3"
   ]
  },
  {
   "cell_type": "code",
   "execution_count": 11,
   "metadata": {},
   "outputs": [
    {
     "name": "stdout",
     "output_type": "stream",
     "text": [
      "0\n",
      "1\n",
      "8\n",
      "27\n",
      "64\n",
      "125\n"
     ]
    }
   ],
   "source": [
    "nu=0\n",
    "for nu in range(6):\n",
    "    print(nu**3)"
   ]
  },
  {
   "attachments": {},
   "cell_type": "markdown",
   "metadata": {},
   "source": [
    "5) Crear una variable que contenga un número entero y realizar un ciclo for la misma cantidad de ciclos"
   ]
  },
  {
   "cell_type": "code",
   "execution_count": 17,
   "metadata": {},
   "outputs": [
    {
     "name": "stdout",
     "output_type": "stream",
     "text": [
      "0\n",
      "1\n",
      "2\n",
      "3\n",
      "4\n"
     ]
    }
   ],
   "source": [
    "k=5\n",
    "for j in range(k):\n",
    "    print(j)"
   ]
  },
  {
   "attachments": {},
   "cell_type": "markdown",
   "metadata": {},
   "source": [
    "6) Utilizar un ciclo while para realizar el factorial de un número guardado en una variable, sólo si la variable contiene un número entero mayor a 0"
   ]
  },
  {
   "cell_type": "code",
   "execution_count": 9,
   "metadata": {},
   "outputs": [
    {
     "name": "stdout",
     "output_type": "stream",
     "text": [
      "120\n"
     ]
    }
   ],
   "source": [
    "num=5\n",
    "fact=1\n",
    "if (num>0 and type(num)==int) :\n",
    "    while num>0:\n",
    "        fact=fact*num\n",
    "        num-=1\n",
    "        #print(fact)\n",
    "else:\n",
    "    print(\"no es mayor de cero\")\n",
    "print (fact)\n"
   ]
  },
  {
   "attachments": {},
   "cell_type": "markdown",
   "metadata": {},
   "source": [
    "7) Crear un ciclo for dentro de un ciclo while"
   ]
  },
  {
   "cell_type": "code",
   "execution_count": 17,
   "metadata": {},
   "outputs": [
    {
     "name": "stdout",
     "output_type": "stream",
     "text": [
      "paso 1 step 1\n",
      "paso 1 step 2\n",
      "paso 1 step 3\n",
      "paso 1 step 4\n",
      "paso 1 step 5\n",
      "paso 2 step 1\n",
      "paso 2 step 2\n",
      "paso 2 step 3\n",
      "paso 2 step 4\n",
      "paso 2 step 5\n",
      "paso 3 step 1\n",
      "paso 3 step 2\n",
      "paso 3 step 3\n",
      "paso 3 step 4\n",
      "paso 3 step 5\n",
      "paso 4 step 1\n",
      "paso 4 step 2\n",
      "paso 4 step 3\n",
      "paso 4 step 4\n",
      "paso 4 step 5\n",
      "paso 5 step 1\n",
      "paso 5 step 2\n",
      "paso 5 step 3\n",
      "paso 5 step 4\n",
      "paso 5 step 5\n"
     ]
    }
   ],
   "source": [
    "a=5\n",
    "n1=1\n",
    "while n1 <= a:\n",
    "    for i in range (1,a+1):\n",
    "        print(\"paso\", n1, \"step\", i)\n",
    "    n1+=1\n",
    "\n"
   ]
  },
  {
   "attachments": {},
   "cell_type": "markdown",
   "metadata": {},
   "source": [
    "8) Crear un ciclo while dentro de un ciclo for"
   ]
  },
  {
   "cell_type": "code",
   "execution_count": 20,
   "metadata": {},
   "outputs": [
    {
     "name": "stdout",
     "output_type": "stream",
     "text": [
      "este es el umero a imprimir 0\n",
      "este es el umero a imprimir 1\n",
      "este es el umero a imprimir 2\n",
      "este es el umero a imprimir 3\n",
      "este es el umero a imprimir 4\n",
      "este es el umero a imprimir 5\n",
      "este es el umero a imprimir 6\n",
      "este es el umero a imprimir 7\n",
      "este es el umero a imprimir 8\n",
      "este es el umero a imprimir 9\n",
      "este es el umero a imprimir 2\n",
      "este es el umero a imprimir 3\n",
      "este es el umero a imprimir 4\n",
      "este es el umero a imprimir 5\n",
      "este es el umero a imprimir 6\n",
      "este es el umero a imprimir 7\n",
      "este es el umero a imprimir 8\n",
      "este es el umero a imprimir 9\n",
      "este es el umero a imprimir 4\n",
      "este es el umero a imprimir 5\n",
      "este es el umero a imprimir 6\n",
      "este es el umero a imprimir 7\n",
      "este es el umero a imprimir 8\n",
      "este es el umero a imprimir 9\n",
      "este es el umero a imprimir 6\n",
      "este es el umero a imprimir 7\n",
      "este es el umero a imprimir 8\n",
      "este es el umero a imprimir 9\n",
      "este es el umero a imprimir 8\n",
      "este es el umero a imprimir 9\n",
      "acabo\n"
     ]
    }
   ],
   "source": [
    "for i in range (0,10,2):\n",
    "    while i < 10:\n",
    "        print(\"este es el umero a imprimir\", i)\n",
    "        i+=1\n",
    "\n",
    "print(\"acabo\")"
   ]
  },
  {
   "attachments": {},
   "cell_type": "markdown",
   "metadata": {},
   "source": [
    "9) Imprimir los números primos existentes entre 0 y 30"
   ]
  },
  {
   "cell_type": "code",
   "execution_count": 101,
   "metadata": {},
   "outputs": [
    {
     "name": "stdout",
     "output_type": "stream",
     "text": [
      "el nnumero 3 es primo\n",
      "el nnumero 5 es primo\n",
      "el nnumero 7 es primo\n",
      "el nnumero 11 es primo\n",
      "el nnumero 13 es primo\n",
      "el nnumero 17 es primo\n",
      "el nnumero 19 es primo\n",
      "el nnumero 23 es primo\n",
      "el nnumero 29 es primo\n",
      "rango 29 46 378\n"
     ]
    }
   ],
   "source": [
    "primo=True\n",
    "ceros=0\n",
    "ciclos_total_sin=0\n",
    "for num in range (3,30):\n",
    "    primo = True\n",
    "    for num2 in range (2,num):\n",
    "        ciclos_total_sin +=1#print(\"va a evaluar num y num2\", num, num2, primo)\n",
    "        if num%num2 == 0:\n",
    "            #print(\"dio cero\")\n",
    "            primo=False\n",
    "            num2+=1\n",
    "            ceros+=1\n",
    "            #print(primo)\n",
    "        else:\n",
    "            #print(\"no dio cero\")\n",
    "            num2+=1\n",
    "            #print(primo)\n",
    "        #print(\"Paso if\")\n",
    "    if primo==True:\n",
    "        print(\"el nnumero\", num, \"es primo\")\n",
    "        primo=False\n",
    "print(\"rango\", num, ceros, ciclos_total_sin)\n",
    "\n",
    "    \n"
   ]
  },
  {
   "attachments": {},
   "cell_type": "markdown",
   "metadata": {},
   "source": [
    "10) ¿Se puede mejorar el proceso del punto 9? Utilizar las sentencias break y/ó continue para tal fin"
   ]
  },
  {
   "cell_type": "code",
   "execution_count": 100,
   "metadata": {},
   "outputs": [
    {
     "name": "stdout",
     "output_type": "stream",
     "text": [
      "el nnumero 3 es primo\n",
      "el nnumero 5 es primo\n",
      "el nnumero 7 es primo\n",
      "el nnumero 11 es primo\n",
      "el nnumero 13 es primo\n",
      "el nnumero 17 es primo\n",
      "el nnumero 19 es primo\n",
      "el nnumero 23 es primo\n",
      "el nnumero 29 es primo\n",
      "rango 29 18 134\n"
     ]
    }
   ],
   "source": [
    "primo=True\n",
    "ceros=0\n",
    "ciclos_total_con=0\n",
    "for num in range (3,30):\n",
    "    primo = True\n",
    "    for num2 in range (2,num):\n",
    "        ciclos_total_con +=1#print(\"va a evaluar num y num2\", num, num2, primo)\n",
    "        if num%num2 == 0:\n",
    "            primo=False\n",
    "            num2+=1\n",
    "            ceros+=1\n",
    "            break\n",
    "        else:\n",
    "            num2+=1\n",
    "    if primo==True:\n",
    "        print(\"el nnumero\", num, \"es primo\")\n",
    "        primo=False\n",
    "print(\"rango\", num, ceros, ciclos_total_con)"
   ]
  },
  {
   "attachments": {},
   "cell_type": "markdown",
   "metadata": {},
   "source": [
    "11) En los puntos 9 y 10, se diseño un código que encuentra números primos y además se lo optimizó. ¿Es posible saber en qué medida se optimizó?"
   ]
  },
  {
   "cell_type": "code",
   "execution_count": null,
   "metadata": {},
   "outputs": [],
   "source": []
  },
  {
   "attachments": {},
   "cell_type": "markdown",
   "metadata": {},
   "source": [
    "12) Aplicando continue, armar un ciclo while que solo imprima los valores divisibles por 12, dentro del rango de números de 100 a 300"
   ]
  },
  {
   "cell_type": "code",
   "execution_count": 24,
   "metadata": {},
   "outputs": [
    {
     "name": "stdout",
     "output_type": "stream",
     "text": [
      "el numero 108 es divisible por 12\n",
      "el numero 120 es divisible por 12\n",
      "el numero 132 es divisible por 12\n",
      "el numero 144 es divisible por 12\n",
      "el numero 156 es divisible por 12\n",
      "el numero 168 es divisible por 12\n",
      "el numero 180 es divisible por 12\n",
      "el numero 192 es divisible por 12\n",
      "el numero 204 es divisible por 12\n",
      "el numero 216 es divisible por 12\n",
      "el numero 228 es divisible por 12\n",
      "el numero 240 es divisible por 12\n",
      "el numero 252 es divisible por 12\n",
      "el numero 264 es divisible por 12\n",
      "el numero 276 es divisible por 12\n",
      "el numero 288 es divisible por 12\n",
      "acabo\n"
     ]
    }
   ],
   "source": [
    "for number in range(100,300):\n",
    "    if (number%12 == 0 ):\n",
    "        print (\"el numero\", number, \"es divisible por 12\")\n",
    "    else:\n",
    "         number +=1\n",
    "print(\"acabo\")"
   ]
  },
  {
   "attachments": {},
   "cell_type": "markdown",
   "metadata": {},
   "source": [
    "13) Utilizar la función **input()** que permite hacer ingresos por teclado, para encontrar números primos y dar la opción al usario de buscar el siguiente"
   ]
  },
  {
   "cell_type": "code",
   "execution_count": 7,
   "metadata": {},
   "outputs": [
    {
     "name": "stdout",
     "output_type": "stream",
     "text": [
      "30\n",
      "el nnumero 3 es primo\n",
      "el nnumero 5 es primo\n",
      "rango 5 1 5\n"
     ]
    }
   ],
   "source": [
    "numero = input(\"entre el numero maximo:\")\n",
    "numero= int(numero)\n",
    "print(numero)\n",
    "primo=True\n",
    "ceros=0\n",
    "ciclos_total_con=0\n",
    "for num in range (3,numero):\n",
    "    primo = True\n",
    "    for num2 in range (2,num):\n",
    "        ciclos_total_con +=1#print(\"va a evaluar num y num2\", num, num2, primo)\n",
    "        if num%num2 == 0:\n",
    "            primo=False\n",
    "            num2+=1\n",
    "            ceros+=1\n",
    "            break\n",
    "        else:\n",
    "            num2+=1\n",
    "    if primo==True:\n",
    "        print(\"el nnumero\", num, \"es primo\")\n",
    "        primo=False\n",
    "        sigue = input(\"quiere encontrar el numero siguiente:(S/N)\")\n",
    "        if sigue==\"n\" or sigue ==\"N\":\n",
    "            break\n",
    "        else:\n",
    "            continue\n",
    "print(\"rango\", num, ceros, ciclos_total_con)"
   ]
  },
  {
   "attachments": {},
   "cell_type": "markdown",
   "metadata": {},
   "source": [
    "14) Crear un ciclo while que encuentre dentro del rango de 100 a 300 el primer número divisible por 3 y además múltiplo de 6"
   ]
  },
  {
   "cell_type": "code",
   "execution_count": 23,
   "metadata": {},
   "outputs": [
    {
     "name": "stdout",
     "output_type": "stream",
     "text": [
      "el numero 102 es divisible por 3 y mulriplo de 6\n",
      "acabo\n"
     ]
    }
   ],
   "source": [
    "for number in range(100,300):\n",
    "    if (number%3 == 0 and number%6 == 0):\n",
    "        print (\"el numero\", number, \"es divisible por 3 y mulriplo de 6\")\n",
    "        break\n",
    "    else:\n",
    "         number +=1\n",
    "print(\"acabo\")"
   ]
  }
 ],
 "metadata": {
  "kernelspec": {
   "display_name": "Python 3.11.0 64-bit",
   "language": "python",
   "name": "python3"
  },
  "language_info": {
   "codemirror_mode": {
    "name": "ipython",
    "version": 3
   },
   "file_extension": ".py",
   "mimetype": "text/x-python",
   "name": "python",
   "nbconvert_exporter": "python",
   "pygments_lexer": "ipython3",
   "version": "3.11.0"
  },
  "vscode": {
   "interpreter": {
    "hash": "c261aea317cc0286b3b3261fbba9abdec21eaa57589985bb7a274bf54d6cc0a7"
   }
  }
 },
 "nbformat": 4,
 "nbformat_minor": 4
}
